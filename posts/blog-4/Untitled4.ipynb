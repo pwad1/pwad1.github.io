{
 "cells": [
  {
   "cell_type": "markdown",
   "id": "7ac7a909-b26a-48a2-994e-3f4884022bd2",
   "metadata": {},
   "source": [
    "# Auditing Allocative Bias\n",
    "---\n",
    "title: Auditing Allocative Bias\n",
    "author: Prateek Wadhavkar\n",
    "---\n",
    "\n",
    "\n",
    "\n",
    "# 1. Using folktables"
   ]
  },
  {
   "cell_type": "code",
   "execution_count": 3,
   "id": "c84b37f2-ee2e-4558-8df7-ca4d7de573e6",
   "metadata": {},
   "outputs": [
    {
     "data": {
      "text/html": [
       "<div>\n",
       "<style scoped>\n",
       "    .dataframe tbody tr th:only-of-type {\n",
       "        vertical-align: middle;\n",
       "    }\n",
       "\n",
       "    .dataframe tbody tr th {\n",
       "        vertical-align: top;\n",
       "    }\n",
       "\n",
       "    .dataframe thead th {\n",
       "        text-align: right;\n",
       "    }\n",
       "</style>\n",
       "<table border=\"1\" class=\"dataframe\">\n",
       "  <thead>\n",
       "    <tr style=\"text-align: right;\">\n",
       "      <th></th>\n",
       "      <th>AGEP</th>\n",
       "      <th>SCHL</th>\n",
       "      <th>MAR</th>\n",
       "      <th>RELP</th>\n",
       "      <th>DIS</th>\n",
       "      <th>ESP</th>\n",
       "      <th>CIT</th>\n",
       "      <th>MIG</th>\n",
       "      <th>MIL</th>\n",
       "      <th>ANC</th>\n",
       "      <th>NATIVITY</th>\n",
       "      <th>DEAR</th>\n",
       "      <th>DEYE</th>\n",
       "      <th>DREM</th>\n",
       "      <th>SEX</th>\n",
       "      <th>RAC1P</th>\n",
       "      <th>ESR</th>\n",
       "    </tr>\n",
       "  </thead>\n",
       "  <tbody>\n",
       "    <tr>\n",
       "      <th>0</th>\n",
       "      <td>19</td>\n",
       "      <td>18.0</td>\n",
       "      <td>5</td>\n",
       "      <td>17</td>\n",
       "      <td>2</td>\n",
       "      <td>NaN</td>\n",
       "      <td>1</td>\n",
       "      <td>3.0</td>\n",
       "      <td>4.0</td>\n",
       "      <td>1</td>\n",
       "      <td>1</td>\n",
       "      <td>2</td>\n",
       "      <td>2</td>\n",
       "      <td>2.0</td>\n",
       "      <td>2</td>\n",
       "      <td>1</td>\n",
       "      <td>6.0</td>\n",
       "    </tr>\n",
       "    <tr>\n",
       "      <th>1</th>\n",
       "      <td>18</td>\n",
       "      <td>18.0</td>\n",
       "      <td>5</td>\n",
       "      <td>17</td>\n",
       "      <td>2</td>\n",
       "      <td>NaN</td>\n",
       "      <td>1</td>\n",
       "      <td>3.0</td>\n",
       "      <td>4.0</td>\n",
       "      <td>1</td>\n",
       "      <td>1</td>\n",
       "      <td>2</td>\n",
       "      <td>2</td>\n",
       "      <td>2.0</td>\n",
       "      <td>2</td>\n",
       "      <td>2</td>\n",
       "      <td>6.0</td>\n",
       "    </tr>\n",
       "    <tr>\n",
       "      <th>2</th>\n",
       "      <td>53</td>\n",
       "      <td>17.0</td>\n",
       "      <td>5</td>\n",
       "      <td>16</td>\n",
       "      <td>1</td>\n",
       "      <td>NaN</td>\n",
       "      <td>1</td>\n",
       "      <td>1.0</td>\n",
       "      <td>4.0</td>\n",
       "      <td>2</td>\n",
       "      <td>1</td>\n",
       "      <td>2</td>\n",
       "      <td>2</td>\n",
       "      <td>1.0</td>\n",
       "      <td>1</td>\n",
       "      <td>1</td>\n",
       "      <td>6.0</td>\n",
       "    </tr>\n",
       "    <tr>\n",
       "      <th>3</th>\n",
       "      <td>28</td>\n",
       "      <td>19.0</td>\n",
       "      <td>5</td>\n",
       "      <td>16</td>\n",
       "      <td>2</td>\n",
       "      <td>NaN</td>\n",
       "      <td>1</td>\n",
       "      <td>1.0</td>\n",
       "      <td>2.0</td>\n",
       "      <td>1</td>\n",
       "      <td>1</td>\n",
       "      <td>2</td>\n",
       "      <td>2</td>\n",
       "      <td>2.0</td>\n",
       "      <td>1</td>\n",
       "      <td>1</td>\n",
       "      <td>6.0</td>\n",
       "    </tr>\n",
       "    <tr>\n",
       "      <th>4</th>\n",
       "      <td>25</td>\n",
       "      <td>12.0</td>\n",
       "      <td>5</td>\n",
       "      <td>16</td>\n",
       "      <td>1</td>\n",
       "      <td>NaN</td>\n",
       "      <td>1</td>\n",
       "      <td>3.0</td>\n",
       "      <td>4.0</td>\n",
       "      <td>1</td>\n",
       "      <td>1</td>\n",
       "      <td>2</td>\n",
       "      <td>2</td>\n",
       "      <td>1.0</td>\n",
       "      <td>2</td>\n",
       "      <td>1</td>\n",
       "      <td>6.0</td>\n",
       "    </tr>\n",
       "  </tbody>\n",
       "</table>\n",
       "</div>"
      ],
      "text/plain": [
       "   AGEP  SCHL  MAR  RELP  DIS  ESP  CIT  MIG  MIL  ANC  NATIVITY  DEAR  DEYE  \\\n",
       "0    19  18.0    5    17    2  NaN    1  3.0  4.0    1         1     2     2   \n",
       "1    18  18.0    5    17    2  NaN    1  3.0  4.0    1         1     2     2   \n",
       "2    53  17.0    5    16    1  NaN    1  1.0  4.0    2         1     2     2   \n",
       "3    28  19.0    5    16    2  NaN    1  1.0  2.0    1         1     2     2   \n",
       "4    25  12.0    5    16    1  NaN    1  3.0  4.0    1         1     2     2   \n",
       "\n",
       "   DREM  SEX  RAC1P  ESR  \n",
       "0   2.0    2      1  6.0  \n",
       "1   2.0    2      2  6.0  \n",
       "2   1.0    1      1  6.0  \n",
       "3   2.0    1      1  6.0  \n",
       "4   1.0    2      1  6.0  "
      ]
     },
     "execution_count": 3,
     "metadata": {},
     "output_type": "execute_result"
    }
   ],
   "source": [
    "from folktables import ACSDataSource, ACSEmployment, BasicProblem, adult_filter\n",
    "import numpy as np\n",
    "\n",
    "STATE = \"AL\"\n",
    "\n",
    "data_source = ACSDataSource(survey_year='2018', \n",
    "                            horizon='1-Year', \n",
    "                            survey='person')\n",
    "\n",
    "acs_data = data_source.get_data(states=[STATE], download=True)\n",
    "\n",
    "possible_features=['AGEP', 'SCHL', 'MAR', 'RELP', 'DIS', 'ESP', 'CIT', 'MIG', 'MIL', 'ANC', 'NATIVITY', 'DEAR', 'DEYE', 'DREM', 'SEX', 'RAC1P', 'ESR']\n",
    "acs_data[possible_features].head()"
   ]
  },
  {
   "cell_type": "code",
   "execution_count": 9,
   "id": "c4705c4f-deac-4bbd-9f44-f9ed92ef3e14",
   "metadata": {},
   "outputs": [
    {
     "name": "stdout",
     "output_type": "stream",
     "text": [
      "(47777, 15)\n",
      "(47777,)\n",
      "(47777,)\n"
     ]
    }
   ],
   "source": [
    "features_to_use = [f for f in possible_features if f not in [\"ESR\", \"RAC1P\"]]\n",
    "\n",
    "EmploymentProblem = BasicProblem(\n",
    "    features=features_to_use,\n",
    "    target='ESR',\n",
    "    target_transform=lambda x: x == 1,\n",
    "    group='RAC1P',\n",
    "    preprocess=lambda x: x,\n",
    "    postprocess=lambda x: np.nan_to_num(x, -1),\n",
    ")\n",
    "\n",
    "features, label, group = EmploymentProblem.df_to_numpy(acs_data)\n",
    "\n",
    "for obj in [features, label, group]:\n",
    "  print(obj.shape)\n",
    "\n",
    "from sklearn.model_selection import train_test_split\n",
    "X_train, X_test, y_train, y_test, group_train, group_test = train_test_split(\n",
    "    features, label, group, test_size=0.2, random_state=0)\n",
    "\n",
    "from sklearn.linear_model import LogisticRegression\n",
    "from sklearn.pipeline import make_pipeline\n",
    "from sklearn.preprocessing import StandardScaler\n",
    "from sklearn.metrics import confusion_matrix\n",
    "\n",
    "model = make_pipeline(StandardScaler(), LogisticRegression())\n",
    "model.fit(X_train, y_train)\n",
    "\n",
    "y_hat = model.predict(X_test)"
   ]
  },
  {
   "cell_type": "code",
   "execution_count": 10,
   "id": "af3b33d0-db34-4d0d-bca1-dce213ddd5b6",
   "metadata": {},
   "outputs": [
    {
     "data": {
      "text/plain": [
       "0.7838630806845965"
      ]
     },
     "execution_count": 10,
     "metadata": {},
     "output_type": "execute_result"
    }
   ],
   "source": [
    "(y_hat == y_test).mean()\n",
    "(y_hat == y_test)[group_test == 1].mean()\n",
    "(y_hat == y_test)[group_test == 2].mean()"
   ]
  },
  {
   "cell_type": "markdown",
   "id": "21011ae5-915d-491a-ab0e-decde82f8b62",
   "metadata": {},
   "source": [
    "# 2 Basic Descriptives\n",
    "\n",
    "I will predict whether income is over $50K on the basis of demographics excluding sex, and audit for gender bias in Utah\n",
    "\n",
    "I will use logistic regression from sklearn.linear_model.LogisticRegression"
   ]
  },
  {
   "cell_type": "code",
   "execution_count": 2,
   "id": "6f672b93-b963-41ac-9a58-167185443a10",
   "metadata": {},
   "outputs": [
    {
     "data": {
      "text/html": [
       "<div>\n",
       "<style scoped>\n",
       "    .dataframe tbody tr th:only-of-type {\n",
       "        vertical-align: middle;\n",
       "    }\n",
       "\n",
       "    .dataframe tbody tr th {\n",
       "        vertical-align: top;\n",
       "    }\n",
       "\n",
       "    .dataframe thead th {\n",
       "        text-align: right;\n",
       "    }\n",
       "</style>\n",
       "<table border=\"1\" class=\"dataframe\">\n",
       "  <thead>\n",
       "    <tr style=\"text-align: right;\">\n",
       "      <th></th>\n",
       "      <th>AGEP</th>\n",
       "      <th>SCHL</th>\n",
       "      <th>MAR</th>\n",
       "      <th>RELP</th>\n",
       "      <th>DIS</th>\n",
       "      <th>ESP</th>\n",
       "      <th>CIT</th>\n",
       "      <th>MIG</th>\n",
       "      <th>MIL</th>\n",
       "      <th>ANC</th>\n",
       "      <th>NATIVITY</th>\n",
       "      <th>DEAR</th>\n",
       "      <th>DEYE</th>\n",
       "      <th>DREM</th>\n",
       "      <th>SEX</th>\n",
       "      <th>RAC1P</th>\n",
       "      <th>ESR</th>\n",
       "    </tr>\n",
       "  </thead>\n",
       "  <tbody>\n",
       "    <tr>\n",
       "      <th>0</th>\n",
       "      <td>78</td>\n",
       "      <td>22.0</td>\n",
       "      <td>3</td>\n",
       "      <td>16</td>\n",
       "      <td>1</td>\n",
       "      <td>NaN</td>\n",
       "      <td>1</td>\n",
       "      <td>3.0</td>\n",
       "      <td>4.0</td>\n",
       "      <td>4</td>\n",
       "      <td>1</td>\n",
       "      <td>2</td>\n",
       "      <td>1</td>\n",
       "      <td>2.0</td>\n",
       "      <td>2</td>\n",
       "      <td>1</td>\n",
       "      <td>6.0</td>\n",
       "    </tr>\n",
       "    <tr>\n",
       "      <th>1</th>\n",
       "      <td>36</td>\n",
       "      <td>19.0</td>\n",
       "      <td>3</td>\n",
       "      <td>16</td>\n",
       "      <td>2</td>\n",
       "      <td>NaN</td>\n",
       "      <td>1</td>\n",
       "      <td>3.0</td>\n",
       "      <td>4.0</td>\n",
       "      <td>1</td>\n",
       "      <td>1</td>\n",
       "      <td>2</td>\n",
       "      <td>2</td>\n",
       "      <td>2.0</td>\n",
       "      <td>1</td>\n",
       "      <td>1</td>\n",
       "      <td>6.0</td>\n",
       "    </tr>\n",
       "    <tr>\n",
       "      <th>2</th>\n",
       "      <td>15</td>\n",
       "      <td>11.0</td>\n",
       "      <td>5</td>\n",
       "      <td>16</td>\n",
       "      <td>1</td>\n",
       "      <td>NaN</td>\n",
       "      <td>4</td>\n",
       "      <td>3.0</td>\n",
       "      <td>NaN</td>\n",
       "      <td>1</td>\n",
       "      <td>2</td>\n",
       "      <td>2</td>\n",
       "      <td>2</td>\n",
       "      <td>1.0</td>\n",
       "      <td>1</td>\n",
       "      <td>6</td>\n",
       "      <td>NaN</td>\n",
       "    </tr>\n",
       "    <tr>\n",
       "      <th>3</th>\n",
       "      <td>67</td>\n",
       "      <td>16.0</td>\n",
       "      <td>3</td>\n",
       "      <td>16</td>\n",
       "      <td>1</td>\n",
       "      <td>NaN</td>\n",
       "      <td>1</td>\n",
       "      <td>3.0</td>\n",
       "      <td>4.0</td>\n",
       "      <td>2</td>\n",
       "      <td>1</td>\n",
       "      <td>2</td>\n",
       "      <td>2</td>\n",
       "      <td>2.0</td>\n",
       "      <td>2</td>\n",
       "      <td>1</td>\n",
       "      <td>6.0</td>\n",
       "    </tr>\n",
       "    <tr>\n",
       "      <th>4</th>\n",
       "      <td>21</td>\n",
       "      <td>18.0</td>\n",
       "      <td>5</td>\n",
       "      <td>17</td>\n",
       "      <td>2</td>\n",
       "      <td>NaN</td>\n",
       "      <td>1</td>\n",
       "      <td>2.0</td>\n",
       "      <td>4.0</td>\n",
       "      <td>1</td>\n",
       "      <td>1</td>\n",
       "      <td>2</td>\n",
       "      <td>2</td>\n",
       "      <td>2.0</td>\n",
       "      <td>2</td>\n",
       "      <td>1</td>\n",
       "      <td>3.0</td>\n",
       "    </tr>\n",
       "  </tbody>\n",
       "</table>\n",
       "</div>"
      ],
      "text/plain": [
       "   AGEP  SCHL  MAR  RELP  DIS  ESP  CIT  MIG  MIL  ANC  NATIVITY  DEAR  DEYE  \\\n",
       "0    78  22.0    3    16    1  NaN    1  3.0  4.0    4         1     2     1   \n",
       "1    36  19.0    3    16    2  NaN    1  3.0  4.0    1         1     2     2   \n",
       "2    15  11.0    5    16    1  NaN    4  3.0  NaN    1         2     2     2   \n",
       "3    67  16.0    3    16    1  NaN    1  3.0  4.0    2         1     2     2   \n",
       "4    21  18.0    5    17    2  NaN    1  2.0  4.0    1         1     2     2   \n",
       "\n",
       "   DREM  SEX  RAC1P  ESR  \n",
       "0   2.0    2      1  6.0  \n",
       "1   2.0    1      1  6.0  \n",
       "2   1.0    1      6  NaN  \n",
       "3   2.0    2      1  6.0  \n",
       "4   2.0    2      1  3.0  "
      ]
     },
     "execution_count": 2,
     "metadata": {},
     "output_type": "execute_result"
    }
   ],
   "source": [
    "import pandas as pd\n",
    "import matplotlib.pyplot as plt\n",
    "import seaborn as sns\n",
    "import numpy as np\n",
    "from folktables import ACSDataSource, ACSEmployment, BasicProblem, adult_filter\n",
    "\n",
    "\n",
    "\n",
    "STATE = \"UT\"\n",
    "\n",
    "data_source = ACSDataSource(survey_year='2018', \n",
    "                            horizon='1-Year', \n",
    "                            survey='person')\n",
    "\n",
    "acs_data = data_source.get_data(states=[STATE], download=True)\n",
    "\n",
    "possible_features=['AGEP', 'SCHL', 'MAR', 'RELP', 'DIS', 'ESP', 'CIT', 'MIG', 'MIL', 'ANC', 'NATIVITY', 'DEAR', 'DEYE', 'DREM', 'SEX', 'RAC1P', 'ESR']\n",
    "predictor='PINCP' #household income\n",
    "\n",
    "UT_data= acs_data[[*possible_features, predictor]].copy()\n",
    "\n",
    "acs_data[possible_features].head()\n",
    "\n",
    "\n",
    "\n",
    "#df = pd.DataFrame(X_train, columns = features_to_use)\n",
    "#df[\"group\"] = group_train\n",
    "#df[\"label\"] = y_train"
   ]
  },
  {
   "cell_type": "markdown",
   "id": "c0e2b756-d5ef-4393-926c-95d3814dd18f",
   "metadata": {},
   "source": [
    "1) How many individuals are in the data?\n",
    "    "
   ]
  },
  {
   "cell_type": "code",
   "execution_count": 3,
   "id": "a43f613e-e5b0-4795-a24a-8e4070e20ca0",
   "metadata": {},
   "outputs": [
    {
     "name": "stdout",
     "output_type": "stream",
     "text": [
      "This dataset has 31603 individuals\n"
     ]
    }
   ],
   "source": [
    "n= UT_data.shape[0]\n",
    "print(\"This dataset has \"+str(n)+\" individuals\")"
   ]
  },
  {
   "cell_type": "markdown",
   "id": "121e79da-d9de-4221-8616-5786bf5dc11f",
   "metadata": {},
   "source": [
    "2) Of these individuals, what proportion have target label equal to 1? In employment prediction, these would correspond to employed individuals.\n",
    "    "
   ]
  },
  {
   "cell_type": "code",
   "execution_count": 4,
   "id": "54425021-8e16-47f1-ac41-2bde368bf359",
   "metadata": {},
   "outputs": [
    {
     "name": "stdout",
     "output_type": "stream",
     "text": [
      "Out of the 31603 individuals in this dataset, 6088 individuals make more than $50,000\n",
      "This means that 19.26399392462741% of the population of Utah earns over 50k\n"
     ]
    }
   ],
   "source": [
    "n_50k=UT_data[UT_data[\"PINCP\"] > 50000].shape[0]\n",
    "\n",
    "print(\"Out of the \"+str(n)+\" individuals in this dataset, \"+str(n_50k)+\" individuals make more than $50,000\")\n",
    "\n",
    "print(\"This means that \"+str(n_50k*100/n)+\"% of the population of Utah earns over 50k\")"
   ]
  },
  {
   "cell_type": "markdown",
   "id": "beefd815-951b-46b7-a677-430d0b2f6a3e",
   "metadata": {},
   "source": [
    "3) Of these individuals, how many are in each of the groups?\n",
    "    \n",
    "4) In each group, what proportion of individuals have target label equal to 1?\n"
   ]
  },
  {
   "cell_type": "code",
   "execution_count": 5,
   "id": "db92f392-fa4b-4b5d-b2cd-3f7f82b9659e",
   "metadata": {},
   "outputs": [
    {
     "name": "stdout",
     "output_type": "stream",
     "text": [
      "This sample contains 15707 men and 15896 women. This means that this sample is 50.2990222447236 female\n",
      "Out of the 15707 men, 4515 earn over 50k. This corresponds to 28.745145476539122% of all men\n",
      "Out of the 15896 women, 1573 earn over 50k. This corresponds to 9.895571212883745% of all women\n",
      "Out of the 6088 people earning over 50k, only 1573 or 25.8377135348226% are women\n"
     ]
    }
   ],
   "source": [
    "n_female_50k= UT_data[(UT_data[\"PINCP\"] > 50000) & (UT_data[\"SEX\"]==2)].shape[0]\n",
    "n_male_50k= n_50k- n_female_50k\n",
    "n_female=UT_data[(UT_data[\"SEX\"]==2)].shape[0]\n",
    "n_male= n-n_female\n",
    "\n",
    "print(\"This sample contains \"+str(n_male)+\" men and \"+str(n_female)+\" women. This means that this sample is \"+str(n_female*100/n)+\" female\")\n",
    "print(\"Out of the \"+str(n_male)+ \" men, \"+str(n_male_50k)+\" earn over 50k. This corresponds to \"+str(n_male_50k*100/n_male)+\"% of all men\")\n",
    "print(\"Out of the \"+str(n_female)+ \" women, \"+str(n_female_50k)+\" earn over 50k. This corresponds to \"+str(n_female_50k*100/n_female)+\"% of all women\")\n",
    "print(\"Out of the \"+str(n_50k)+\" people earning over 50k, only \"+str(n_female_50k)+\" or \"+str(n_female_50k*100/n_50k)+\"% are women\")\n",
    "\n"
   ]
  },
  {
   "cell_type": "markdown",
   "id": "53b9033b-e308-4429-90f6-a81b025e24e8",
   "metadata": {},
   "source": [
    "5) Check for intersectional trends by studying the proportion of positive target labels broken out by your chosen group labels and an additional group labe. For example, if you chose race (RAC1P) as your group, then you could also choose sex (SEX) and compute the proportion of positive labels by both race and sex. This might be a good opportunity to use a visualization such as a bar chart, e.g. via the seaborn package.\n",
    "\n",
    "Let us observe how this breakdown differs on the basis of race."
   ]
  },
  {
   "cell_type": "code",
   "execution_count": 6,
   "id": "9ebd0291-ead4-4f2b-8b3f-da0522bc6592",
   "metadata": {},
   "outputs": [
    {
     "data": {
      "image/png": "[encoded data removed]",
      "text/plain": [
       "<Figure size 1000x600 with 1 Axes>"
      ]
     },
     "metadata": {},
     "output_type": "display_data"
    }
   ],
   "source": [
    "grouped_data = UT_data.groupby(['RAC1P', 'SEX']).mean().reset_index()\n",
    "\n",
    "plt.figure(figsize=(10, 6))\n",
    "sns.barplot(x='RAC1P', y='PINCP', hue='SEX', data=grouped_data)\n",
    "plt.title('Gender Income Gap by Race')\n",
    "plt.xlabel('Race')\n",
    "plt.ylabel('Income')\n",
    "plt.show()\n"
   ]
  },
  {
   "cell_type": "markdown",
   "id": "f5cbe3f1-b36d-49fc-9cc2-c8562dc7b937",
   "metadata": {},
   "source": [
    "This chart shows that all races observe a gender income gap. However, races 1 and 4 have an extremely high income gap. Let us break it down by the proportion of each race making more than 50k."
   ]
  },
  {
   "cell_type": "code",
   "execution_count": 7,
   "id": "3579163d-db14-4ebd-ae4c-2f3ba77fb9fe",
   "metadata": {},
   "outputs": [
    {
     "data": {
      "image/png": "[encoded data removed]",
      "text/plain": [
       "<Figure size 1000x600 with 1 Axes>"
      ]
     },
     "metadata": {},
     "output_type": "display_data"
    }
   ],
   "source": [
    "#grouped_data2 = UT_data.groupby(['RAC1P', 'SEX'])['PINCP'].apply(lambda x: (x == '>50k').mean().reset_index()\n",
    "\n",
    "grouped_data2 = UT_data.groupby(['RAC1P', 'SEX'])['PINCP'].apply(lambda x: (x > 50000).mean()).reset_index()                                                           \n",
    "                                                                  \n",
    "plt.figure(figsize=(10, 6))\n",
    "sns.barplot(x='RAC1P', y='PINCP', hue='SEX', data=grouped_data2)\n",
    "plt.title('Proportion of individuals earning more than 50k by Race')\n",
    "plt.xlabel('Race')\n",
    "plt.ylabel('Proportion earning more than 50k')\n",
    "plt.show()\n"
   ]
  },
  {
   "cell_type": "markdown",
   "id": "c2d095fa-85e5-416e-9a2f-bb903fefd744",
   "metadata": {},
   "source": [
    "This breakdown appears to be even starker for races 1, 2 and 3. \n",
    "We observe 0 individuals from race 4 making over 50k."
   ]
  },
  {
   "cell_type": "markdown",
   "id": "3f6a0775-214a-45c4-bd35-c6440359e79d",
   "metadata": {},
   "source": [
    "# Train Your Model\n",
    "\n",
    "Let us now construct a BasicProblem."
   ]
  },
  {
   "cell_type": "code",
   "execution_count": 8,
   "id": "06c4fc09-969c-42eb-94de-24259fca48fe",
   "metadata": {},
   "outputs": [],
   "source": [
    "features_to_use = [f for f in possible_features if f not in [\"SEX\"]]\n",
    "\n",
    "\n",
    "GenderPayProblem = BasicProblem(\n",
    "    features=features_to_use,\n",
    "    target='PINCP',\n",
    "    target_transform=lambda x: x > 50000,\n",
    "    group='SEX',\n",
    "    preprocess=lambda x: x,\n",
    "    postprocess=lambda x: np.nan_to_num(x, -1),\n",
    ")\n",
    "\n",
    "features, label, group = GenderPayProblem.df_to_numpy(UT_data)"
   ]
  },
  {
   "cell_type": "code",
   "execution_count": 9,
   "id": "f3dc63ef-ac86-4128-9378-e639ab7ed57f",
   "metadata": {},
   "outputs": [
    {
     "name": "stdout",
     "output_type": "stream",
     "text": [
      "(31603, 16)\n",
      "(31603,)\n",
      "(31603,)\n"
     ]
    }
   ],
   "source": [
    "for obj in [features, label, group]:\n",
    "  print(obj.shape)"
   ]
  },
  {
   "cell_type": "code",
   "execution_count": 10,
   "id": "9321dc99-0263-47d7-a680-9990b4f42078",
   "metadata": {},
   "outputs": [],
   "source": [
    "from sklearn.model_selection import train_test_split\n",
    "X_train, X_test, y_train, y_test, group_train, group_test = train_test_split(\n",
    "    features, label, group, test_size=0.2, random_state=0)"
   ]
  },
  {
   "cell_type": "code",
   "execution_count": 13,
   "id": "aa533d75-4ff4-49a5-88e9-86c041896e11",
   "metadata": {},
   "outputs": [
    {
     "name": "stderr",
     "output_type": "stream",
     "text": [
      "/Users/prateekwadhavkar/opt/anaconda3/envs/ml-0451/lib/python3.9/site-packages/sklearn/linear_model/_logistic.py:458: ConvergenceWarning: lbfgs failed to converge (status=1):\n",
      "STOP: TOTAL NO. of ITERATIONS REACHED LIMIT.\n",
      "\n",
      "Increase the number of iterations (max_iter) or scale the data as shown in:\n",
      "    https://scikit-learn.org/stable/modules/preprocessing.html\n",
      "Please also refer to the documentation for alternative solver options:\n",
      "    https://scikit-learn.org/stable/modules/linear_model.html#logistic-regression\n",
      "  n_iter_i = _check_optimize_result(\n"
     ]
    },
    {
     "data": {
      "text/plain": [
       "0.8286663502610346"
      ]
     },
     "execution_count": 13,
     "metadata": {},
     "output_type": "execute_result"
    }
   ],
   "source": [
    "from sklearn.linear_model import LogisticRegression\n",
    "from sklearn.pipeline import make_pipeline\n",
    "from sklearn.preprocessing import StandardScaler, PolynomialFeatures\n",
    "from sklearn.metrics import confusion_matrix\n",
    "\n",
    "model = make_pipeline(StandardScaler(), \n",
    "                      PolynomialFeatures(degree=3), \n",
    "                      LogisticRegression())\n",
    "model.fit(X_train, y_train)\n",
    "\n",
    "y_hat = model.predict(X_test)\n",
    "(y_hat == y_test).mean()\n"
   ]
  },
  {
   "cell_type": "markdown",
   "id": "d08379d7-c862-4898-be2a-124801f71290",
   "metadata": {},
   "source": [
    "# Audit Your Model\n",
    "\n",
    "## Overall Measures\n",
    "\n",
    "    What is the overall accuracy of your model?\n",
    "    What is the positive predictive value (PPV) of your model?\n",
    "    What are the overall false negative and false positive rates (FNR and FPR) for your model?"
   ]
  },
  {
   "cell_type": "code",
   "execution_count": 20,
   "id": "b014321b-a9f1-47dc-bf63-b07cf716e862",
   "metadata": {},
   "outputs": [
    {
     "name": "stdout",
     "output_type": "stream",
     "text": [
      "the overall accuracy of this model is 82.86663502610347%\n",
      "the PPV of my model is 0.5755968169761273\n",
      "the FNR of my model is 0.48086124401913877\n",
      "the FPR of my model is 0.09473060982830077\n"
     ]
    }
   ],
   "source": [
    "from sklearn.metrics import confusion_matrix\n",
    "\n",
    "\n",
    "y_hat = model.predict(X_test)\n",
    "overall_accuracy=(y_hat == y_test).mean()\n",
    "\n",
    "print(\"the overall accuracy of this model is \"+str(overall_accuracy*100)+\"%\")\n",
    "\n",
    "### What are the overall false negative and false positive rates (FNR and FPR) for your model?\n",
    "tn, fp, fn, tp = confusion_matrix(y_test, model.predict(X_test)).ravel()\n",
    "\n",
    "ppv= tp/(fp+tp)\n",
    "print(\"the PPV of my model is \"+str(ppv))\n",
    "\n",
    "fnr=fn / (fn + tp)\n",
    "fpr=fp / (fp + tn)\n",
    "\n",
    "print(\"the FNR of my model is \"+str(fnr))\n",
    "print(\"the FPR of my model is \"+str(fpr))\n"
   ]
  },
  {
   "cell_type": "markdown",
   "id": "90fd4adb-ffa1-4b9e-97be-2d7730ff74f6",
   "metadata": {},
   "source": [
    "Our model appears to have a fairly high accuracy. However, as we can observe, the PPV for our model is actually low, and the FNR is quite high. The PPV predicts the probability of a value we predict to be positive actually being positive. FNR represents the proportion of false negatives out of all the individuals who truly have a positive outcome. \n",
    "\n",
    "## By-Group Measures\n",
    "\n",
    "    What is the accuracy of your model on each subgroup?\n",
    "    What is the PPV of your model on each subgroup?\n",
    "    What are the FNR and FPR on each subgroup?\n",
    "\n",
    "Let us now divide our data based on sex, and assess the accuracy, FNR, PPV and FPR for both sexes\n",
    "\n"
   ]
  },
  {
   "cell_type": "code",
   "execution_count": 32,
   "id": "55a1c0a2-c490-45ed-bb13-0b77466790bc",
   "metadata": {},
   "outputs": [
    {
     "name": "stdout",
     "output_type": "stream",
     "text": [
      "the accuracy for men is 0.806472284524191\n",
      "the accuracy for women is 0.8503125\n",
      "the PPV for women is 0.3304157549234136\n",
      "the FNR for women is 0.5339506172839507\n",
      "the FPR for women is 0.10639777468706536\n",
      "the PPV for men is 0.7418397626112759\n",
      "the FNR for men is 0.46236559139784944\n",
      "the FPR for men is 0.07941579187585578\n"
     ]
    }
   ],
   "source": [
    "accuracy_men=(y_hat == y_test)[group_test == 1].mean()\n",
    "accuracy_women=(y_hat == y_test)[group_test == 2].mean()\n",
    "\n",
    "print(\"the accuracy for men is \"+str(accuracy_men))\n",
    "print(\"the accuracy for women is \"+str(accuracy_women))\n",
    "\n",
    "tn_w, fp_w, fn_w, tp_w = confusion_matrix(y_test[group_test == 2], model.predict(X_test[group_test == 2])).ravel()\n",
    "#tn, fp, fn, tp = confusion_matrix(y_test, model.predict(X_test)).ravel()\n",
    "\n",
    "ppv_w=tp_w /(fp_w + tp_w)\n",
    "fnr_w=fn_w / (fn_w + tp_w)\n",
    "fpr_w=fp_w / (fp_w + tn_w)\n",
    "\n",
    "print(\"the PPV for women is \"+str(ppv_w))\n",
    "print(\"the FNR for women is \"+str(fnr_w))\n",
    "print(\"the FPR for women is \"+str(fpr_w))\n",
    "\n",
    "tn_m, fp_m, fn_m, tp_m = confusion_matrix(y_test[group_test == 1], model.predict(X_test[group_test == 1])).ravel()\n",
    "\n",
    "\n",
    "ppv_m=tp_m /(fp_m + tp_m)\n",
    "fnr_m=fn_m / (fn_m + tp_m)\n",
    "fpr_m=fp_m / (fp_m + tn_m)\n",
    "\n",
    "print(\"the PPV for men is \"+str(ppv_m))\n",
    "print(\"the FNR for men is \"+str(fnr_m))\n",
    "print(\"the FPR for men is \"+str(fpr_m))\n"
   ]
  },
  {
   "cell_type": "markdown",
   "id": "d45cc83e-e762-4f5e-a3f5-337efca9d97e",
   "metadata": {},
   "source": [
    "we can observe the following:\n",
    "\n",
    "    Accuracy: Women have a slightly higher accuracy than men.\n",
    "    PPV: Men have a significantly higher PPV compared to women, indicating that when men are predicted as positive, they are more likely to truly have the positive outcome.\n",
    "    FNR: Women have a higher FNR than men, suggesting that women are more likely to be falsely classified as negative (not having the positive outcome) when they actually have it.\n",
    "    FPR: Women have a higher FPR than men, indicating that women are more likely to be falsely classified as positive (having the positive outcome) when they don't actually have it.\n",
    "    \n",
    "## Bias Measures\n",
    "\n",
    "See Chouldechova (2017) for definitions of these terms. For calibration, you can think of the score as having only two values, 0 and 1.\n",
    "\n",
    "    Is your model approximately calibrated?\n",
    "    Does your model satisfy approximate error rate balance?\n",
    "    Does your model satisfy statistical parity?\n",
    "   "
   ]
  },
  {
   "cell_type": "code",
   "execution_count": 45,
   "id": "a5b4be11-3053-4408-a77a-79b01b98cadb",
   "metadata": {},
   "outputs": [
    {
     "data": {
      "image/png": "[encoded data removed]",
      "text/plain": [
       "<Figure size 640x480 with 1 Axes>"
      ]
     },
     "metadata": {},
     "output_type": "display_data"
    }
   ],
   "source": [
    "from sklearn.calibration import calibration_curve\n",
    "\n",
    "prob_pos = model.predict_proba(X_test)[:, 1]\n",
    "fraction_of_positives, mean_predicted_value = calibration_curve(y_test, prob_pos, n_bins=10)\n",
    "\n",
    "plt.plot(mean_predicted_value, fraction_of_positives, label='Calibration Curve')\n",
    "plt.plot([0, 1], [0, 1], color=\"#919191\", label='Ideal Calibration')\n",
    "plt.xlabel('Mean Predicted Value')\n",
    "plt.ylabel('Fraction of Positives')\n",
    "plt.title('Calibration Curve')\n",
    "plt.legend()\n",
    "plt.show()"
   ]
  },
  {
   "cell_type": "markdown",
   "id": "0468fc69-2201-43ea-8c5d-985459c20f0c",
   "metadata": {},
   "source": [
    "Our calibration curve appears to be somewhat in line with the ideal calibration line until the 0.75 mean predicted value. However, following this predicted value, it appears as though our model is underconfident. This means that the predicted probabilities are generally lower than the observed probabilities. In other words, the model is less certain about positive instances than it should be.\n"
   ]
  },
  {
   "cell_type": "code",
   "execution_count": 46,
   "id": "3ff4e616-7929-411f-bc94-7a41dda6c213",
   "metadata": {},
   "outputs": [
    {
     "name": "stdout",
     "output_type": "stream",
     "text": [
      "ppv_gap= -0.41142400768786236 fnr_gap=0.07158502588610122 fpr_gap=0.10639777468706536\n"
     ]
    }
   ],
   "source": [
    "ppv_gap=ppv_w-ppv_m\n",
    "fnr_gap=fnr_w-fnr_m\n",
    "fpr_gap=fpr_w-fpr_m\n",
    "\n",
    "print(\"ppv_gap= \"+str(ppv_gap)+\" fnr_gap=\"+str(fnr_gap)+\" fpr_gap=\"+str(fpr_w))\n"
   ]
  },
  {
   "cell_type": "markdown",
   "id": "2ab5093d-d2df-4a50-b36e-ab7516feed61",
   "metadata": {},
   "source": [
    "We do not observe a high level of difference for the false negative and positive rates, suggesting that our model satisfies approximate error rate balance. However, the false negative and positive rates are both higher for women.\n",
    "\n",
    "# Concluding paragraphs\n",
    "\n",
    "What groups of people could stand to benefit from a system that is able to predict the label you predicted, such as income or employment status? For example, what kinds of companies might want to buy your model for commercial use?\n",
    "\n",
    "This tool could be very useful for policymakers studying ways to alleviate the income gap. This model is also useful for credit agencies and insurance companies in determining the risk of insuring or giving credit to an individual.\n",
    "\n",
    "Based on your bias audit, what could be the impact of deploying your model for large-scale prediction in commercial or governmental settings?\n",
    "\n",
    "The false negative and positive rates are both higher for women compared to men. This means that women are more likely to be misclassified by our model- which indicates that \n",
    "\n",
    "Based on your bias audit, do you feel that your model displays problematic bias? What kind (calibration, error rate, etc)?\n",
    "\n",
    "The calibration rate suggests that our model is somewhat underconfident. The model has a higher PPV for men (74.18%) compared to women (33.04%), indicating that when the model predicts a positive outcome, it is more likely to be correct for men than for women. The FNR is higher for women (53.40%) compared to men (46.24%), suggesting that the model is more likely to miss positive outcomes for women compared to men. False Positive Rate (FPR): The FPR is slightly higher for women (10.64%) compared to men (7.94%), indicating that the model is more likely to wrongly predict positive outcomes for women than for men.\n",
    "\n",
    "The large gap in PPV is most concerning for me.\n"
   ]
  },
  {
   "cell_type": "code",
   "execution_count": null,
   "id": "5fa598bd-ec43-4dc8-b2ae-4c9073a54e0d",
   "metadata": {},
   "outputs": [],
   "source": []
  }
 ],
 "metadata": {
  "kernelspec": {
   "display_name": "Python [conda env:ml-0451]",
   "language": "python",
   "name": "conda-env-ml-0451-py"
  },
  "language_info": {
   "codemirror_mode": {
    "name": "ipython",
    "version": 3
   },
   "file_extension": ".py",
   "mimetype": "text/x-python",
   "name": "python",
   "nbconvert_exporter": "python",
   "pygments_lexer": "ipython3",
   "version": "3.9.16"
  }
 },
 "nbformat": 4,
 "nbformat_minor": 5
}
